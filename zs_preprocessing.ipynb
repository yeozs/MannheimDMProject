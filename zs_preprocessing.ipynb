{
 "cells": [
  {
   "cell_type": "markdown",
   "id": "7616aee8",
   "metadata": {
    "toc": true
   },
   "source": [
    "<h1>Table of Contents<span class=\"tocSkip\"></span></h1>\n",
    "<div class=\"toc\"><ul class=\"toc-item\"><li><span><a href=\"#Importing-Libraries\" data-toc-modified-id=\"Importing-Libraries-1\"><span class=\"toc-item-num\">1&nbsp;&nbsp;</span>Importing Libraries</a></span></li><li><span><a href=\"#Importing-Data\" data-toc-modified-id=\"Importing-Data-2\"><span class=\"toc-item-num\">2&nbsp;&nbsp;</span>Importing Data</a></span></li><li><span><a href=\"#Inicial-Exploration\" data-toc-modified-id=\"Inicial-Exploration-3\"><span class=\"toc-item-num\">3&nbsp;&nbsp;</span>Inicial Exploration</a></span></li><li><span><a href=\"#Exploratory-Data-Analysis\" data-toc-modified-id=\"Exploratory-Data-Analysis-4\"><span class=\"toc-item-num\">4&nbsp;&nbsp;</span>Exploratory Data Analysis</a></span><ul class=\"toc-item\"><li><span><a href=\"#Missing-Values\" data-toc-modified-id=\"Missing-Values-4.1\"><span class=\"toc-item-num\">4.1&nbsp;&nbsp;</span>Missing Values</a></span></li><li><span><a href=\"#Outliers\" data-toc-modified-id=\"Outliers-4.2\"><span class=\"toc-item-num\">4.2&nbsp;&nbsp;</span>Outliers</a></span></li><li><span><a href=\"#Feature-Engineering\" data-toc-modified-id=\"Feature-Engineering-4.3\"><span class=\"toc-item-num\">4.3&nbsp;&nbsp;</span>Feature Engineering</a></span></li><li><span><a href=\"#Visualisations\" data-toc-modified-id=\"Visualisations-4.4\"><span class=\"toc-item-num\">4.4&nbsp;&nbsp;</span>Visualisations</a></span></li><li><span><a href=\"#Preprocessing-for-Sentiment-Analysis\" data-toc-modified-id=\"Preprocessing-for-Sentiment-Analysis-4.5\"><span class=\"toc-item-num\">4.5&nbsp;&nbsp;</span>Preprocessing for Sentiment Analysis</a></span><ul class=\"toc-item\"><li><span><a href=\"#ML-and-DL-Based-models\" data-toc-modified-id=\"ML-and-DL-Based-models-4.5.1\"><span class=\"toc-item-num\">4.5.1&nbsp;&nbsp;</span>ML and DL-Based models</a></span></li><li><span><a href=\"#Lexicon-Based-Models\" data-toc-modified-id=\"Lexicon-Based-Models-4.5.2\"><span class=\"toc-item-num\">4.5.2&nbsp;&nbsp;</span>Lexicon Based Models</a></span></li></ul></li></ul></li></ul></div>"
   ]
  },
  {
   "cell_type": "markdown",
   "id": "081aa230",
   "metadata": {},
   "source": [
    "## Importing Libraries"
   ]
  },
  {
   "cell_type": "code",
   "execution_count": 1,
   "id": "33824ce6",
   "metadata": {
    "ExecuteTime": {
     "end_time": "2024-05-03T12:26:43.106523Z",
     "start_time": "2024-05-03T12:26:31.491583Z"
    }
   },
   "outputs": [
    {
     "name": "stdout",
     "output_type": "stream",
     "text": [
      "Requirement already satisfied: emoji in ./.conda/lib/python3.12/site-packages (2.11.1)\r\n"
     ]
    },
    {
     "name": "stderr",
     "output_type": "stream",
     "text": [
      "[nltk_data] Downloading package punkt to\n",
      "[nltk_data]     /Users/antoniooliveira/nltk_data...\n",
      "[nltk_data]   Package punkt is already up-to-date!\n",
      "[nltk_data] Downloading package stopwords to\n",
      "[nltk_data]     /Users/antoniooliveira/nltk_data...\n",
      "[nltk_data]   Package stopwords is already up-to-date!\n",
      "[nltk_data] Downloading package wordnet to\n",
      "[nltk_data]     /Users/antoniooliveira/nltk_data...\n",
      "[nltk_data]   Package wordnet is already up-to-date!\n",
      "[nltk_data] Downloading package omw-1.4 to\n",
      "[nltk_data]     /Users/antoniooliveira/nltk_data...\n",
      "[nltk_data]   Package omw-1.4 is already up-to-date!\n"
     ]
    },
    {
     "data": {
      "text/plain": [
       "True"
      ]
     },
     "execution_count": 1,
     "metadata": {},
     "output_type": "execute_result"
    }
   ],
   "source": [
    "#Pre-prep Downloads for Jupyter notebook Functioning\n",
    "!pip install emoji\n",
    "\n",
    "import nltk\n",
    "nltk.download('punkt')\n",
    "\n",
    "from nltk.corpus import stopwords\n",
    "nltk.download('stopwords')\n",
    "\n",
    "from nltk.stem import WordNetLemmatizer\n",
    "nltk.download('wordnet')\n",
    "nltk.download('omw-1.4')"
   ]
  },
  {
   "cell_type": "code",
   "execution_count": 2,
   "id": "c67fad32",
   "metadata": {
    "ExecuteTime": {
     "end_time": "2024-05-03T12:26:50.803943Z",
     "start_time": "2024-05-03T12:26:43.110036Z"
    }
   },
   "outputs": [],
   "source": [
    "import numpy as np\n",
    "import pandas as pd\n",
    "import matplotlib.pyplot as plt\n",
    "\n",
    "\n",
    "# import random\n",
    "# random.seed(20)\n",
    "# np.random.seed(20)"
   ]
  },
  {
   "cell_type": "markdown",
   "id": "312a6369",
   "metadata": {},
   "source": [
    "## Importing Data"
   ]
  },
  {
   "cell_type": "code",
   "execution_count": 3,
   "id": "ba7ec02f",
   "metadata": {
    "ExecuteTime": {
     "end_time": "2024-05-03T12:26:51.056021Z",
     "start_time": "2024-05-03T12:26:50.806486Z"
    }
   },
   "outputs": [
    {
     "data": {
      "text/html": [
       "<div>\n",
       "<style scoped>\n",
       "    .dataframe tbody tr th:only-of-type {\n",
       "        vertical-align: middle;\n",
       "    }\n",
       "\n",
       "    .dataframe tbody tr th {\n",
       "        vertical-align: top;\n",
       "    }\n",
       "\n",
       "    .dataframe thead th {\n",
       "        text-align: right;\n",
       "    }\n",
       "</style>\n",
       "<table border=\"1\" class=\"dataframe\">\n",
       "  <thead>\n",
       "    <tr style=\"text-align: right;\">\n",
       "      <th></th>\n",
       "      <th>Title</th>\n",
       "      <th>Name</th>\n",
       "      <th>Review Date</th>\n",
       "      <th>Airline</th>\n",
       "      <th>Verified</th>\n",
       "      <th>Reviews</th>\n",
       "      <th>Type of Traveller</th>\n",
       "      <th>Month Flown</th>\n",
       "      <th>Route</th>\n",
       "      <th>Class</th>\n",
       "      <th>Seat Comfort</th>\n",
       "      <th>Staff Service</th>\n",
       "      <th>Food &amp; Beverages</th>\n",
       "      <th>Inflight Entertainment</th>\n",
       "      <th>Value For Money</th>\n",
       "      <th>Overall Rating</th>\n",
       "      <th>Recommended</th>\n",
       "    </tr>\n",
       "  </thead>\n",
       "  <tbody>\n",
       "    <tr>\n",
       "      <th>0</th>\n",
       "      <td>Flight was amazing</td>\n",
       "      <td>Alison Soetantyo</td>\n",
       "      <td>2024-03-01</td>\n",
       "      <td>Singapore Airlines</td>\n",
       "      <td>True</td>\n",
       "      <td>Flight was amazing. The crew onboard this fl...</td>\n",
       "      <td>Solo Leisure</td>\n",
       "      <td>December 2023</td>\n",
       "      <td>Jakarta to Singapore</td>\n",
       "      <td>Business Class</td>\n",
       "      <td>4</td>\n",
       "      <td>4</td>\n",
       "      <td>4</td>\n",
       "      <td>4</td>\n",
       "      <td>4</td>\n",
       "      <td>9</td>\n",
       "      <td>yes</td>\n",
       "    </tr>\n",
       "    <tr>\n",
       "      <th>1</th>\n",
       "      <td>seats on this aircraft are dreadful</td>\n",
       "      <td>Robert Watson</td>\n",
       "      <td>2024-02-21</td>\n",
       "      <td>Singapore Airlines</td>\n",
       "      <td>True</td>\n",
       "      <td>Booking an emergency exit seat still meant h...</td>\n",
       "      <td>Solo Leisure</td>\n",
       "      <td>February 2024</td>\n",
       "      <td>Phuket to Singapore</td>\n",
       "      <td>Economy Class</td>\n",
       "      <td>5</td>\n",
       "      <td>3</td>\n",
       "      <td>4</td>\n",
       "      <td>4</td>\n",
       "      <td>1</td>\n",
       "      <td>3</td>\n",
       "      <td>no</td>\n",
       "    </tr>\n",
       "    <tr>\n",
       "      <th>2</th>\n",
       "      <td>Food was plentiful and tasty</td>\n",
       "      <td>S Han</td>\n",
       "      <td>2024-02-20</td>\n",
       "      <td>Singapore Airlines</td>\n",
       "      <td>True</td>\n",
       "      <td>Excellent performance on all fronts. I would...</td>\n",
       "      <td>Family Leisure</td>\n",
       "      <td>February 2024</td>\n",
       "      <td>Siem Reap to Singapore</td>\n",
       "      <td>Economy Class</td>\n",
       "      <td>1</td>\n",
       "      <td>5</td>\n",
       "      <td>2</td>\n",
       "      <td>1</td>\n",
       "      <td>5</td>\n",
       "      <td>10</td>\n",
       "      <td>yes</td>\n",
       "    </tr>\n",
       "    <tr>\n",
       "      <th>3</th>\n",
       "      <td>“how much food was available</td>\n",
       "      <td>D Laynes</td>\n",
       "      <td>2024-02-19</td>\n",
       "      <td>Singapore Airlines</td>\n",
       "      <td>True</td>\n",
       "      <td>Pretty comfortable flight considering I was f...</td>\n",
       "      <td>Solo Leisure</td>\n",
       "      <td>February 2024</td>\n",
       "      <td>Singapore to London Heathrow</td>\n",
       "      <td>Economy Class</td>\n",
       "      <td>5</td>\n",
       "      <td>5</td>\n",
       "      <td>5</td>\n",
       "      <td>5</td>\n",
       "      <td>5</td>\n",
       "      <td>10</td>\n",
       "      <td>yes</td>\n",
       "    </tr>\n",
       "    <tr>\n",
       "      <th>4</th>\n",
       "      <td>“service was consistently good”</td>\n",
       "      <td>A Othman</td>\n",
       "      <td>2024-02-19</td>\n",
       "      <td>Singapore Airlines</td>\n",
       "      <td>True</td>\n",
       "      <td>The service was consistently good from start ...</td>\n",
       "      <td>Family Leisure</td>\n",
       "      <td>February 2024</td>\n",
       "      <td>Singapore to Phnom Penh</td>\n",
       "      <td>Economy Class</td>\n",
       "      <td>5</td>\n",
       "      <td>5</td>\n",
       "      <td>5</td>\n",
       "      <td>5</td>\n",
       "      <td>5</td>\n",
       "      <td>10</td>\n",
       "      <td>yes</td>\n",
       "    </tr>\n",
       "  </tbody>\n",
       "</table>\n",
       "</div>"
      ],
      "text/plain": [
       "                                  Title              Name Review Date  \\\n",
       "0                    Flight was amazing  Alison Soetantyo  2024-03-01   \n",
       "1  seats on this aircraft are dreadful      Robert Watson  2024-02-21   \n",
       "2          Food was plentiful and tasty             S Han  2024-02-20   \n",
       "3          “how much food was available          D Laynes  2024-02-19   \n",
       "4       “service was consistently good”         A Othman   2024-02-19   \n",
       "\n",
       "              Airline Verified  \\\n",
       "0  Singapore Airlines     True   \n",
       "1  Singapore Airlines     True   \n",
       "2  Singapore Airlines     True   \n",
       "3  Singapore Airlines     True   \n",
       "4  Singapore Airlines     True   \n",
       "\n",
       "                                             Reviews Type of Traveller  \\\n",
       "0    Flight was amazing. The crew onboard this fl...      Solo Leisure   \n",
       "1    Booking an emergency exit seat still meant h...      Solo Leisure   \n",
       "2    Excellent performance on all fronts. I would...    Family Leisure   \n",
       "3   Pretty comfortable flight considering I was f...      Solo Leisure   \n",
       "4   The service was consistently good from start ...    Family Leisure   \n",
       "\n",
       "     Month Flown                         Route           Class  Seat Comfort  \\\n",
       "0  December 2023          Jakarta to Singapore  Business Class             4   \n",
       "1  February 2024           Phuket to Singapore   Economy Class             5   \n",
       "2  February 2024        Siem Reap to Singapore   Economy Class             1   \n",
       "3  February 2024  Singapore to London Heathrow   Economy Class             5   \n",
       "4  February 2024       Singapore to Phnom Penh   Economy Class             5   \n",
       "\n",
       "   Staff Service  Food & Beverages  Inflight Entertainment  Value For Money  \\\n",
       "0              4                 4                       4                4   \n",
       "1              3                 4                       4                1   \n",
       "2              5                 2                       1                5   \n",
       "3              5                 5                       5                5   \n",
       "4              5                 5                       5                5   \n",
       "\n",
       "   Overall Rating Recommended  \n",
       "0               9         yes  \n",
       "1               3          no  \n",
       "2              10         yes  \n",
       "3              10         yes  \n",
       "4              10         yes  "
      ]
     },
     "execution_count": 3,
     "metadata": {},
     "output_type": "execute_result"
    }
   ],
   "source": [
    "#read in dataset in pandas format\n",
    "#dataset = pd.read_csv('airlines_reviews.csv', sep=',')\n",
    "dataset = pd.read_csv('/Users/antoniooliveira/Downloads/airlines_reviews.csv')\n",
    "dataset.head()"
   ]
  },
  {
   "cell_type": "markdown",
   "id": "6c42a5b9",
   "metadata": {},
   "source": [
    "## Inicial Exploration"
   ]
  },
  {
   "cell_type": "markdown",
   "id": "8b2c19f1",
   "metadata": {},
   "source": [
    "**Describe & Info**"
   ]
  },
  {
   "cell_type": "code",
   "execution_count": 4,
   "id": "5e5b508d",
   "metadata": {
    "ExecuteTime": {
     "end_time": "2024-05-03T12:26:51.082034Z",
     "start_time": "2024-05-03T12:26:51.059735Z"
    },
    "scrolled": true
   },
   "outputs": [
    {
     "data": {
      "text/html": [
       "<div>\n",
       "<style scoped>\n",
       "    .dataframe tbody tr th:only-of-type {\n",
       "        vertical-align: middle;\n",
       "    }\n",
       "\n",
       "    .dataframe tbody tr th {\n",
       "        vertical-align: top;\n",
       "    }\n",
       "\n",
       "    .dataframe thead th {\n",
       "        text-align: right;\n",
       "    }\n",
       "</style>\n",
       "<table border=\"1\" class=\"dataframe\">\n",
       "  <thead>\n",
       "    <tr style=\"text-align: right;\">\n",
       "      <th></th>\n",
       "      <th>Seat Comfort</th>\n",
       "      <th>Staff Service</th>\n",
       "      <th>Food &amp; Beverages</th>\n",
       "      <th>Inflight Entertainment</th>\n",
       "      <th>Value For Money</th>\n",
       "      <th>Overall Rating</th>\n",
       "    </tr>\n",
       "  </thead>\n",
       "  <tbody>\n",
       "    <tr>\n",
       "      <th>count</th>\n",
       "      <td>8100.000000</td>\n",
       "      <td>8100.000000</td>\n",
       "      <td>8100.000000</td>\n",
       "      <td>8100.000000</td>\n",
       "      <td>8100.000000</td>\n",
       "      <td>8100.000000</td>\n",
       "    </tr>\n",
       "    <tr>\n",
       "      <th>mean</th>\n",
       "      <td>3.414815</td>\n",
       "      <td>3.569877</td>\n",
       "      <td>3.384074</td>\n",
       "      <td>3.636790</td>\n",
       "      <td>3.148642</td>\n",
       "      <td>5.632469</td>\n",
       "    </tr>\n",
       "    <tr>\n",
       "      <th>std</th>\n",
       "      <td>1.397183</td>\n",
       "      <td>1.527436</td>\n",
       "      <td>1.455694</td>\n",
       "      <td>1.309564</td>\n",
       "      <td>1.589377</td>\n",
       "      <td>3.523664</td>\n",
       "    </tr>\n",
       "    <tr>\n",
       "      <th>min</th>\n",
       "      <td>1.000000</td>\n",
       "      <td>1.000000</td>\n",
       "      <td>1.000000</td>\n",
       "      <td>0.000000</td>\n",
       "      <td>1.000000</td>\n",
       "      <td>1.000000</td>\n",
       "    </tr>\n",
       "    <tr>\n",
       "      <th>25%</th>\n",
       "      <td>2.000000</td>\n",
       "      <td>2.000000</td>\n",
       "      <td>2.000000</td>\n",
       "      <td>3.000000</td>\n",
       "      <td>1.000000</td>\n",
       "      <td>2.000000</td>\n",
       "    </tr>\n",
       "    <tr>\n",
       "      <th>50%</th>\n",
       "      <td>4.000000</td>\n",
       "      <td>4.000000</td>\n",
       "      <td>4.000000</td>\n",
       "      <td>4.000000</td>\n",
       "      <td>3.000000</td>\n",
       "      <td>6.000000</td>\n",
       "    </tr>\n",
       "    <tr>\n",
       "      <th>75%</th>\n",
       "      <td>5.000000</td>\n",
       "      <td>5.000000</td>\n",
       "      <td>5.000000</td>\n",
       "      <td>5.000000</td>\n",
       "      <td>5.000000</td>\n",
       "      <td>9.000000</td>\n",
       "    </tr>\n",
       "    <tr>\n",
       "      <th>max</th>\n",
       "      <td>5.000000</td>\n",
       "      <td>5.000000</td>\n",
       "      <td>5.000000</td>\n",
       "      <td>5.000000</td>\n",
       "      <td>5.000000</td>\n",
       "      <td>10.000000</td>\n",
       "    </tr>\n",
       "  </tbody>\n",
       "</table>\n",
       "</div>"
      ],
      "text/plain": [
       "       Seat Comfort  Staff Service  Food & Beverages  Inflight Entertainment  \\\n",
       "count   8100.000000    8100.000000       8100.000000             8100.000000   \n",
       "mean       3.414815       3.569877          3.384074                3.636790   \n",
       "std        1.397183       1.527436          1.455694                1.309564   \n",
       "min        1.000000       1.000000          1.000000                0.000000   \n",
       "25%        2.000000       2.000000          2.000000                3.000000   \n",
       "50%        4.000000       4.000000          4.000000                4.000000   \n",
       "75%        5.000000       5.000000          5.000000                5.000000   \n",
       "max        5.000000       5.000000          5.000000                5.000000   \n",
       "\n",
       "       Value For Money  Overall Rating  \n",
       "count      8100.000000     8100.000000  \n",
       "mean          3.148642        5.632469  \n",
       "std           1.589377        3.523664  \n",
       "min           1.000000        1.000000  \n",
       "25%           1.000000        2.000000  \n",
       "50%           3.000000        6.000000  \n",
       "75%           5.000000        9.000000  \n",
       "max           5.000000       10.000000  "
      ]
     },
     "execution_count": 4,
     "metadata": {},
     "output_type": "execute_result"
    }
   ],
   "source": [
    "dataset.describe()"
   ]
  },
  {
   "cell_type": "code",
   "execution_count": 5,
   "id": "dc17e69f",
   "metadata": {
    "ExecuteTime": {
     "end_time": "2024-05-03T12:26:51.098371Z",
     "start_time": "2024-05-03T12:26:51.084359Z"
    }
   },
   "outputs": [
    {
     "name": "stdout",
     "output_type": "stream",
     "text": [
      "<class 'pandas.core.frame.DataFrame'>\n",
      "RangeIndex: 8100 entries, 0 to 8099\n",
      "Data columns (total 17 columns):\n",
      " #   Column                  Non-Null Count  Dtype \n",
      "---  ------                  --------------  ----- \n",
      " 0   Title                   8100 non-null   object\n",
      " 1   Name                    8100 non-null   object\n",
      " 2   Review Date             8100 non-null   object\n",
      " 3   Airline                 8100 non-null   object\n",
      " 4   Verified                8100 non-null   object\n",
      " 5   Reviews                 8100 non-null   object\n",
      " 6   Type of Traveller       8100 non-null   object\n",
      " 7   Month Flown             8100 non-null   object\n",
      " 8   Route                   8100 non-null   object\n",
      " 9   Class                   8100 non-null   object\n",
      " 10  Seat Comfort            8100 non-null   int64 \n",
      " 11  Staff Service           8100 non-null   int64 \n",
      " 12  Food & Beverages        8100 non-null   int64 \n",
      " 13  Inflight Entertainment  8100 non-null   int64 \n",
      " 14  Value For Money         8100 non-null   int64 \n",
      " 15  Overall Rating          8100 non-null   int64 \n",
      " 16  Recommended             8100 non-null   object\n",
      "dtypes: int64(6), object(11)\n",
      "memory usage: 1.1+ MB\n"
     ]
    }
   ],
   "source": [
    "dataset.info()"
   ]
  },
  {
   "cell_type": "markdown",
   "id": "133f2da4",
   "metadata": {},
   "source": [
    "**Unique Values**"
   ]
  },
  {
   "cell_type": "code",
   "execution_count": 6,
   "id": "38e58bb0",
   "metadata": {
    "ExecuteTime": {
     "end_time": "2024-05-03T12:26:51.138784Z",
     "start_time": "2024-05-03T12:26:51.101003Z"
    }
   },
   "outputs": [
    {
     "data": {
      "text/plain": [
       "Title                     7614\n",
       "Name                      6583\n",
       "Review Date               2549\n",
       "Airline                     10\n",
       "Verified                     5\n",
       "Reviews                   8099\n",
       "Type of Traveller            4\n",
       "Month Flown                107\n",
       "Route                     5566\n",
       "Class                        4\n",
       "Seat Comfort                 5\n",
       "Staff Service                5\n",
       "Food & Beverages             5\n",
       "Inflight Entertainment       6\n",
       "Value For Money              5\n",
       "Overall Rating              10\n",
       "Recommended                  2\n",
       "dtype: int64"
      ]
     },
     "execution_count": 6,
     "metadata": {},
     "output_type": "execute_result"
    }
   ],
   "source": [
    "dataset.nunique()"
   ]
  },
  {
   "cell_type": "code",
   "execution_count": 7,
   "id": "c9b9af08",
   "metadata": {
    "ExecuteTime": {
     "end_time": "2024-05-03T12:26:51.149822Z",
     "start_time": "2024-05-03T12:26:51.141394Z"
    }
   },
   "outputs": [
    {
     "name": "stdout",
     "output_type": "stream",
     "text": [
      "Unique values in column 'Airline': \n",
      " ['Singapore Airlines' 'Qatar Airways' 'All Nippon Airways' 'Emirates'\n",
      " 'Japan Airlines' 'Turkish Airlines' 'Air France' 'Cathay Pacific Airways'\n",
      " 'EVA Air' 'Korean Air'] \n",
      "\n",
      "\n",
      "Unique values in column 'Verified': \n",
      " ['True' 'False' '*Unverified*' 'NotVerified'\n",
      " 'we do appreciate you bringing this matter to our attention. Please accept my apologies for not having met your expectations; I do hope that we can leave you and your family with a more positive impression on your future flights with us'] \n",
      "\n",
      "\n",
      "Unique values in column 'Type of Traveller': \n",
      " ['Solo Leisure' 'Family Leisure' 'Business' 'Couple Leisure'] \n",
      "\n",
      "\n",
      "Unique values in column 'Class': \n",
      " ['Business Class' 'Economy Class' 'Premium Economy' 'First Class'] \n",
      "\n",
      "\n",
      "Unique values in column 'Seat Comfort': \n",
      " [4 5 1 2 3] \n",
      "\n",
      "\n",
      "Unique values in column 'Staff Service': \n",
      " [4 3 5 1 2] \n",
      "\n",
      "\n",
      "Unique values in column 'Food & Beverages': \n",
      " [4 2 5 1 3] \n",
      "\n",
      "\n",
      "Unique values in column 'Inflight Entertainment': \n",
      " [4 1 5 2 3 0] \n",
      "\n",
      "\n",
      "Unique values in column 'Value For Money': \n",
      " [4 1 5 2 3] \n",
      "\n",
      "\n",
      "Unique values in column 'Overall Rating': \n",
      " [ 9  3 10  5  4  2  8  1  7  6] \n",
      "\n",
      "\n",
      "Unique values in column 'Recommended': \n",
      " ['yes' 'no'] \n",
      "\n",
      "\n"
     ]
    }
   ],
   "source": [
    "list_ = ['Airline', 'Verified', 'Type of Traveller', 'Class', 'Seat Comfort',\n",
    "        'Staff Service', 'Food & Beverages', 'Inflight Entertainment', 'Value For Money',\n",
    "        'Overall Rating', 'Recommended']\n",
    "\n",
    "\n",
    "for value in list_:\n",
    "    unique_values = dataset[value].unique()\n",
    "    print(f\"Unique values in column '{value}': \\n {unique_values} \\n\\n\")\n",
    "\n",
    "    \n",
    "## Verified has some weird values --> Unverified and NotVerified arent the same ?"
   ]
  },
  {
   "cell_type": "markdown",
   "id": "acd63860",
   "metadata": {},
   "source": [
    "## Exploratory Data Analysis"
   ]
  },
  {
   "cell_type": "markdown",
   "id": "8dd901bc",
   "metadata": {},
   "source": [
    "### Missing Values"
   ]
  },
  {
   "cell_type": "code",
   "execution_count": 8,
   "id": "297a6c78",
   "metadata": {
    "ExecuteTime": {
     "end_time": "2024-05-03T12:26:51.163434Z",
     "start_time": "2024-05-03T12:26:51.152348Z"
    }
   },
   "outputs": [
    {
     "data": {
      "text/plain": [
       "Title                     0\n",
       "Name                      0\n",
       "Review Date               0\n",
       "Airline                   0\n",
       "Verified                  0\n",
       "Reviews                   0\n",
       "Type of Traveller         0\n",
       "Month Flown               0\n",
       "Route                     0\n",
       "Class                     0\n",
       "Seat Comfort              0\n",
       "Staff Service             0\n",
       "Food & Beverages          0\n",
       "Inflight Entertainment    0\n",
       "Value For Money           0\n",
       "Overall Rating            0\n",
       "Recommended               0\n",
       "dtype: int64"
      ]
     },
     "execution_count": 8,
     "metadata": {},
     "output_type": "execute_result"
    }
   ],
   "source": [
    "dataset.isnull().sum()"
   ]
  },
  {
   "cell_type": "markdown",
   "id": "8cc0d37b",
   "metadata": {},
   "source": [
    "### Outliers"
   ]
  },
  {
   "cell_type": "code",
   "execution_count": 9,
   "id": "7eb4d432",
   "metadata": {
    "ExecuteTime": {
     "end_time": "2024-05-03T12:26:52.339180Z",
     "start_time": "2024-05-03T12:26:51.166270Z"
    },
    "scrolled": true
   },
   "outputs": [
    {
     "data": {
      "image/png": "[encoded data removed]",
      "text/plain": [
       "<Figure size 600x400 with 1 Axes>"
      ]
     },
     "metadata": {},
     "output_type": "display_data"
    },
    {
     "data": {
      "image/png": "[encoded data removed]",
      "text/plain": [
       "<Figure size 600x400 with 1 Axes>"
      ]
     },
     "metadata": {},
     "output_type": "display_data"
    },
    {
     "data": {
      "image/png": "[encoded data removed]",
      "text/plain": [
       "<Figure size 600x400 with 1 Axes>"
      ]
     },
     "metadata": {},
     "output_type": "display_data"
    },
    {
     "data": {
      "image/png": "[encoded data removed]",
      "text/plain": [
       "<Figure size 600x400 with 1 Axes>"
      ]
     },
     "metadata": {},
     "output_type": "display_data"
    },
    {
     "data": {
      "image/png": "[encoded data removed]",
      "text/plain": [
       "<Figure size 600x400 with 1 Axes>"
      ]
     },
     "metadata": {},
     "output_type": "display_data"
    },
    {
     "data": {
      "image/png": "[encoded data removed]",
      "text/plain": [
       "<Figure size 600x400 with 1 Axes>"
      ]
     },
     "metadata": {},
     "output_type": "display_data"
    }
   ],
   "source": [
    "import seaborn as sns\n",
    "# Get a list of all numeric column names\n",
    "columns_to_check = dataset.select_dtypes(include=['int', 'float']).columns.to_list()\n",
    "\n",
    "for column in columns_to_check:\n",
    "    plt.figure(figsize=(6, 4))  \n",
    "    sns.boxplot(data=dataset[column])\n",
    "    plt.title(f'Box Plot of {column}')\n",
    "    plt.xticks()\n",
    "    plt.show()\n"
   ]
  },
  {
   "cell_type": "markdown",
   "id": "afff4b26",
   "metadata": {},
   "source": [
    "### Feature Engineering "
   ]
  },
  {
   "cell_type": "markdown",
   "id": "a895781a",
   "metadata": {},
   "source": [
    "**Looking for Emojis**"
   ]
  },
  {
   "cell_type": "code",
   "execution_count": 13,
   "id": "9ff33aa8",
   "metadata": {
    "ExecuteTime": {
     "end_time": "2024-05-03T12:29:31.917516Z",
     "start_time": "2024-05-03T12:29:26.538964Z"
    }
   },
   "outputs": [
    {
     "name": "stdout",
     "output_type": "stream",
     "text": [
      "This is Review: 4708\n",
      "  Valerie, terminal 2A, Paris CDG airport, left our hearts feeling warm with her compassion, patience and understanding whilst checking our bags. She showed us great kindness and deserves recognition for her customer service skills performed. Thank you to Valerie, if you read this, for all the small efforts which made our travels much easier while pregnant. Thank you for going above and beyond ☺️ Turkish airlines hires great assets to their company.\n"
     ]
    }
   ],
   "source": [
    "import emoji\n",
    "\n",
    "reviews_column = dataset['Reviews']\n",
    "\n",
    "# Function to check if a string contains emojis\n",
    "def contain_emoji(review):\n",
    "    emoList = emoji.emoji_list(review)\n",
    "    \n",
    "    if emoList:\n",
    "        return True\n",
    "    \n",
    "    return False\n",
    "\n",
    "# Check for emojis in each review\n",
    "emoji_check = [contain_emoji(review) for review in reviews_column]\n",
    "\n",
    "# Print reviews containing emojis\n",
    "for i in range(len(emoji_check)):\n",
    "    if emoji_check[i] == True:\n",
    "        print(\"This is Review: \" + str(i))\n",
    "        print(reviews_column[i])\n",
    "\n"
   ]
  },
  {
   "cell_type": "markdown",
   "id": "8be186a7",
   "metadata": {},
   "source": [
    "Since there is only one Review it will be dropped"
   ]
  },
  {
   "cell_type": "code",
   "execution_count": 14,
   "id": "8eb16d2b",
   "metadata": {
    "ExecuteTime": {
     "end_time": "2024-05-03T12:29:37.570891Z",
     "start_time": "2024-05-03T12:29:37.565244Z"
    }
   },
   "outputs": [],
   "source": [
    "dataset.drop(4708, inplace=True)"
   ]
  },
  {
   "cell_type": "markdown",
   "id": "6d8262fe",
   "metadata": {},
   "source": [
    "**Converting Overall Rating to 3 classes**"
   ]
  },
  {
   "cell_type": "code",
   "execution_count": 15,
   "id": "84f77076",
   "metadata": {
    "ExecuteTime": {
     "end_time": "2024-05-03T12:29:37.592761Z",
     "start_time": "2024-05-03T12:29:37.573750Z"
    }
   },
   "outputs": [
    {
     "data": {
      "text/html": [
       "<div>\n",
       "<style scoped>\n",
       "    .dataframe tbody tr th:only-of-type {\n",
       "        vertical-align: middle;\n",
       "    }\n",
       "\n",
       "    .dataframe tbody tr th {\n",
       "        vertical-align: top;\n",
       "    }\n",
       "\n",
       "    .dataframe thead th {\n",
       "        text-align: right;\n",
       "    }\n",
       "</style>\n",
       "<table border=\"1\" class=\"dataframe\">\n",
       "  <thead>\n",
       "    <tr style=\"text-align: right;\">\n",
       "      <th></th>\n",
       "      <th>Title</th>\n",
       "      <th>Name</th>\n",
       "      <th>Review Date</th>\n",
       "      <th>Airline</th>\n",
       "      <th>Verified</th>\n",
       "      <th>Reviews</th>\n",
       "      <th>Type of Traveller</th>\n",
       "      <th>Month Flown</th>\n",
       "      <th>Route</th>\n",
       "      <th>Class</th>\n",
       "      <th>Seat Comfort</th>\n",
       "      <th>Staff Service</th>\n",
       "      <th>Food &amp; Beverages</th>\n",
       "      <th>Inflight Entertainment</th>\n",
       "      <th>Value For Money</th>\n",
       "      <th>Overall Rating</th>\n",
       "      <th>Recommended</th>\n",
       "      <th>Sentiment</th>\n",
       "    </tr>\n",
       "  </thead>\n",
       "  <tbody>\n",
       "    <tr>\n",
       "      <th>0</th>\n",
       "      <td>Flight was amazing</td>\n",
       "      <td>Alison Soetantyo</td>\n",
       "      <td>2024-03-01</td>\n",
       "      <td>Singapore Airlines</td>\n",
       "      <td>True</td>\n",
       "      <td>Flight was amazing. The crew onboard this fl...</td>\n",
       "      <td>Solo Leisure</td>\n",
       "      <td>December 2023</td>\n",
       "      <td>Jakarta to Singapore</td>\n",
       "      <td>Business Class</td>\n",
       "      <td>4</td>\n",
       "      <td>4</td>\n",
       "      <td>4</td>\n",
       "      <td>4</td>\n",
       "      <td>4</td>\n",
       "      <td>9</td>\n",
       "      <td>yes</td>\n",
       "      <td>2</td>\n",
       "    </tr>\n",
       "    <tr>\n",
       "      <th>1</th>\n",
       "      <td>seats on this aircraft are dreadful</td>\n",
       "      <td>Robert Watson</td>\n",
       "      <td>2024-02-21</td>\n",
       "      <td>Singapore Airlines</td>\n",
       "      <td>True</td>\n",
       "      <td>Booking an emergency exit seat still meant h...</td>\n",
       "      <td>Solo Leisure</td>\n",
       "      <td>February 2024</td>\n",
       "      <td>Phuket to Singapore</td>\n",
       "      <td>Economy Class</td>\n",
       "      <td>5</td>\n",
       "      <td>3</td>\n",
       "      <td>4</td>\n",
       "      <td>4</td>\n",
       "      <td>1</td>\n",
       "      <td>3</td>\n",
       "      <td>no</td>\n",
       "      <td>0</td>\n",
       "    </tr>\n",
       "    <tr>\n",
       "      <th>2</th>\n",
       "      <td>Food was plentiful and tasty</td>\n",
       "      <td>S Han</td>\n",
       "      <td>2024-02-20</td>\n",
       "      <td>Singapore Airlines</td>\n",
       "      <td>True</td>\n",
       "      <td>Excellent performance on all fronts. I would...</td>\n",
       "      <td>Family Leisure</td>\n",
       "      <td>February 2024</td>\n",
       "      <td>Siem Reap to Singapore</td>\n",
       "      <td>Economy Class</td>\n",
       "      <td>1</td>\n",
       "      <td>5</td>\n",
       "      <td>2</td>\n",
       "      <td>1</td>\n",
       "      <td>5</td>\n",
       "      <td>10</td>\n",
       "      <td>yes</td>\n",
       "      <td>2</td>\n",
       "    </tr>\n",
       "    <tr>\n",
       "      <th>3</th>\n",
       "      <td>“how much food was available</td>\n",
       "      <td>D Laynes</td>\n",
       "      <td>2024-02-19</td>\n",
       "      <td>Singapore Airlines</td>\n",
       "      <td>True</td>\n",
       "      <td>Pretty comfortable flight considering I was f...</td>\n",
       "      <td>Solo Leisure</td>\n",
       "      <td>February 2024</td>\n",
       "      <td>Singapore to London Heathrow</td>\n",
       "      <td>Economy Class</td>\n",
       "      <td>5</td>\n",
       "      <td>5</td>\n",
       "      <td>5</td>\n",
       "      <td>5</td>\n",
       "      <td>5</td>\n",
       "      <td>10</td>\n",
       "      <td>yes</td>\n",
       "      <td>2</td>\n",
       "    </tr>\n",
       "    <tr>\n",
       "      <th>4</th>\n",
       "      <td>“service was consistently good”</td>\n",
       "      <td>A Othman</td>\n",
       "      <td>2024-02-19</td>\n",
       "      <td>Singapore Airlines</td>\n",
       "      <td>True</td>\n",
       "      <td>The service was consistently good from start ...</td>\n",
       "      <td>Family Leisure</td>\n",
       "      <td>February 2024</td>\n",
       "      <td>Singapore to Phnom Penh</td>\n",
       "      <td>Economy Class</td>\n",
       "      <td>5</td>\n",
       "      <td>5</td>\n",
       "      <td>5</td>\n",
       "      <td>5</td>\n",
       "      <td>5</td>\n",
       "      <td>10</td>\n",
       "      <td>yes</td>\n",
       "      <td>2</td>\n",
       "    </tr>\n",
       "  </tbody>\n",
       "</table>\n",
       "</div>"
      ],
      "text/plain": [
       "                                  Title              Name Review Date  \\\n",
       "0                    Flight was amazing  Alison Soetantyo  2024-03-01   \n",
       "1  seats on this aircraft are dreadful      Robert Watson  2024-02-21   \n",
       "2          Food was plentiful and tasty             S Han  2024-02-20   \n",
       "3          “how much food was available          D Laynes  2024-02-19   \n",
       "4       “service was consistently good”         A Othman   2024-02-19   \n",
       "\n",
       "              Airline Verified  \\\n",
       "0  Singapore Airlines     True   \n",
       "1  Singapore Airlines     True   \n",
       "2  Singapore Airlines     True   \n",
       "3  Singapore Airlines     True   \n",
       "4  Singapore Airlines     True   \n",
       "\n",
       "                                             Reviews Type of Traveller  \\\n",
       "0    Flight was amazing. The crew onboard this fl...      Solo Leisure   \n",
       "1    Booking an emergency exit seat still meant h...      Solo Leisure   \n",
       "2    Excellent performance on all fronts. I would...    Family Leisure   \n",
       "3   Pretty comfortable flight considering I was f...      Solo Leisure   \n",
       "4   The service was consistently good from start ...    Family Leisure   \n",
       "\n",
       "     Month Flown                         Route           Class  Seat Comfort  \\\n",
       "0  December 2023          Jakarta to Singapore  Business Class             4   \n",
       "1  February 2024           Phuket to Singapore   Economy Class             5   \n",
       "2  February 2024        Siem Reap to Singapore   Economy Class             1   \n",
       "3  February 2024  Singapore to London Heathrow   Economy Class             5   \n",
       "4  February 2024       Singapore to Phnom Penh   Economy Class             5   \n",
       "\n",
       "   Staff Service  Food & Beverages  Inflight Entertainment  Value For Money  \\\n",
       "0              4                 4                       4                4   \n",
       "1              3                 4                       4                1   \n",
       "2              5                 2                       1                5   \n",
       "3              5                 5                       5                5   \n",
       "4              5                 5                       5                5   \n",
       "\n",
       "   Overall Rating Recommended  Sentiment  \n",
       "0               9         yes          2  \n",
       "1               3          no          0  \n",
       "2              10         yes          2  \n",
       "3              10         yes          2  \n",
       "4              10         yes          2  "
      ]
     },
     "execution_count": 15,
     "metadata": {},
     "output_type": "execute_result"
    }
   ],
   "source": [
    "#Create new function to convert Rating scores to 3 categories\n",
    "#1-3, 4-7, 8-10 forms negative, neutral, positive [0,1,2]\n",
    "def score_convert_senti(score):\n",
    "    if score <= 3:\n",
    "        return 0\n",
    "    elif score >= 4 and score <= 7:\n",
    "        return 1\n",
    "    elif score >= 8:\n",
    "        return 2\n",
    "\n",
    "#Create new column, convert scoring into 3 categories\n",
    "dataset[\"Sentiment\"] = dataset[\"Overall Rating\"].apply(score_convert_senti)\n",
    "\n",
    "#dataset has derived sentiment column added\n",
    "dataset.head()"
   ]
  },
  {
   "cell_type": "markdown",
   "id": "756e5eba",
   "metadata": {},
   "source": [
    "**Converting Reviews into a list**"
   ]
  },
  {
   "cell_type": "code",
   "execution_count": 16,
   "id": "87f9a762",
   "metadata": {
    "ExecuteTime": {
     "end_time": "2024-05-03T12:29:37.599093Z",
     "start_time": "2024-05-03T12:29:37.594938Z"
    }
   },
   "outputs": [],
   "source": [
    "#place reviews column textual data into list\n",
    "reviews = dataset[\"Reviews\"]\n",
    "reviews_list = list(reviews)"
   ]
  },
  {
   "cell_type": "markdown",
   "id": "e9b2a526",
   "metadata": {},
   "source": [
    "### Visualisations"
   ]
  },
  {
   "cell_type": "code",
   "execution_count": 17,
   "id": "2abcc6b6",
   "metadata": {
    "ExecuteTime": {
     "end_time": "2024-05-03T12:29:37.782282Z",
     "start_time": "2024-05-03T12:29:37.602804Z"
    }
   },
   "outputs": [
    {
     "data": {
      "image/png": "[encoded data removed]",
      "text/plain": [
       "<Figure size 500x500 with 1 Axes>"
      ]
     },
     "metadata": {},
     "output_type": "display_data"
    }
   ],
   "source": [
    "#Determine frequency of Overall Ratings Through Plot\n",
    "freq_counts = dataset[\"Overall Rating\"].value_counts()\n",
    "rating_score = freq_counts.index\n",
    "\n",
    "plt.figure(figsize=(5, 5))\n",
    "plt.bar(rating_score, freq_counts)\n",
    "plt.xlabel('Overall Rating Score')\n",
    "plt.ylabel('Frequency')\n",
    "plt.title('Frequency Distribution of Rating Scores')\n",
    "plt.show()"
   ]
  },
  {
   "cell_type": "markdown",
   "id": "2be41081",
   "metadata": {},
   "source": [
    "### Preprocessing for Sentiment Analysis"
   ]
  },
  {
   "cell_type": "code",
   "execution_count": 18,
   "id": "e7cca87d",
   "metadata": {
    "ExecuteTime": {
     "end_time": "2024-05-03T12:29:38.517410Z",
     "start_time": "2024-05-03T12:29:37.784875Z"
    }
   },
   "outputs": [
    {
     "name": "stderr",
     "output_type": "stream",
     "text": [
      "[nltk_data] Downloading package punkt to\n",
      "[nltk_data]     /Users/antoniooliveira/nltk_data...\n",
      "[nltk_data]   Package punkt is already up-to-date!\n",
      "[nltk_data] Downloading package stopwords to\n",
      "[nltk_data]     /Users/antoniooliveira/nltk_data...\n",
      "[nltk_data]   Package stopwords is already up-to-date!\n",
      "[nltk_data] Downloading package wordnet to\n",
      "[nltk_data]     /Users/antoniooliveira/nltk_data...\n",
      "[nltk_data]   Package wordnet is already up-to-date!\n"
     ]
    }
   ],
   "source": [
    "import string\n",
    "import re\n",
    "import nltk\n",
    "from nltk.corpus import stopwords\n",
    "from nltk.tokenize import word_tokenize, sent_tokenize, PunktSentenceTokenizer\n",
    "sent_tokenizer = PunktSentenceTokenizer()\n",
    "from transformers import BertTokenizer\n",
    "from nltk.stem import WordNetLemmatizer\n",
    "from nltk.stem import PorterStemmer\n",
    "\n",
    "\n",
    "# Download NLTK resources if not already downloaded\n",
    "nltk.download('punkt')\n",
    "nltk.download('stopwords')\n",
    "nltk.download('wordnet')\n",
    "\n",
    "\n",
    "def stopword_remover(tokenized_comment, stop_words):\n",
    "    clean_text = []\n",
    "    for token in tokenized_comment:\n",
    "        if token not in stop_words:\n",
    "            clean_text.append(token)\n",
    "    return clean_text\n",
    "\n",
    "def reviews_preprocessor(reviews,\n",
    "                 remove_punctuation = False,\n",
    "                 lowercase = False,\n",
    "                 tokenized_output = False,\n",
    "                 bert_tokenization = False,\n",
    "                 remove_stopwords = True,\n",
    "                 lemmatization = False,\n",
    "                 stemming = False,\n",
    "                 sentence_output = True):\n",
    "    \n",
    "    clean_text = reviews\n",
    "    stop_words = set(stopwords.words('english'))\n",
    "    \n",
    "    \n",
    "    \n",
    "    # Punctuation\n",
    "    if remove_punctuation:\n",
    "        clean_text = re.compile(r'[^\\w\\s]').sub(' ', clean_text)\n",
    "        \n",
    "    # Lowercase    \n",
    "    if lowercase:\n",
    "        clean_text = clean_text.lower()\n",
    "    \n",
    "    #Tokenisation  \n",
    "    clean_text = word_tokenize(str(clean_text))\n",
    "    \n",
    "    # Stopwords\n",
    "    if remove_stopwords:\n",
    "        clean_text = stopword_remover(clean_text, stop_words)\n",
    "    \n",
    "    # Lemmatisation and Stemming\n",
    "    if lemmatization:\n",
    "        lemmatizer = WordNetLemmatizer()\n",
    "        clean_text = [lemmatizer.lemmatize(token) for token in clean_text]\n",
    "        \n",
    "    elif stemming:\n",
    "        stemmer = PorterStemmer()\n",
    "        clean_text = [stemmer.stem(token) for token in clean_text]\n",
    "        \n",
    "     # Removing Tokenisation    \n",
    "    if tokenized_output == False:\n",
    "        #re-join\n",
    "        clean_text = \" \".join(clean_text)\n",
    "        #Remove space before punctuation\n",
    "        clean_text = re.sub(r'(\\s)(?!\\w)','',clean_text)\n",
    "        \n",
    "    elif bert_tokenization:\n",
    "        tokenizer = BertTokenizer.from_pretrained('bert-base-uncased')\n",
    "        clean_text = tokenizer.tokenize(clean_text) \n",
    "\n",
    "    if sentence_output:\n",
    "        clean_text = sent_tokenize(str(clean_text))\n",
    "    \n",
    "    \n",
    "    return clean_text"
   ]
  },
  {
   "cell_type": "markdown",
   "id": "7831c07a",
   "metadata": {},
   "source": [
    "**Preprocessing with the function**"
   ]
  },
  {
   "cell_type": "code",
   "execution_count": 19,
   "id": "d86badd4",
   "metadata": {
    "ExecuteTime": {
     "end_time": "2024-05-03T12:29:50.284868Z",
     "start_time": "2024-05-03T12:29:38.519413Z"
    }
   },
   "outputs": [],
   "source": [
    "dataset['Reviews_1'] = dataset['Reviews'].apply(lambda x: \n",
    "                                 reviews_preprocessor(x,\n",
    "                                 remove_punctuation=False,\n",
    "                                 lowercase=False,\n",
    "                                 remove_stopwords=True,\n",
    "                                 lemmatization=False,\n",
    "                                 stemming=False,\n",
    "                                 tokenized_output=False,\n",
    "                                 bert_tokenization=False,\n",
    "                                 sentence_output=False))"
   ]
  },
  {
   "cell_type": "markdown",
   "id": "367d0ad1",
   "metadata": {
    "ExecuteTime": {
     "end_time": "2024-05-02T17:02:44.520077Z",
     "start_time": "2024-05-02T17:02:44.515348Z"
    }
   },
   "source": [
    "**Testing the function**"
   ]
  },
  {
   "cell_type": "code",
   "execution_count": 20,
   "id": "19b2d6e0",
   "metadata": {
    "ExecuteTime": {
     "end_time": "2024-05-03T12:29:50.289746Z",
     "start_time": "2024-05-03T12:29:50.287244Z"
    }
   },
   "outputs": [],
   "source": [
    "# test = dataset.sample(10)\n",
    "# test.head(5)"
   ]
  },
  {
   "cell_type": "code",
   "execution_count": 21,
   "id": "8a5c369c",
   "metadata": {
    "ExecuteTime": {
     "end_time": "2024-05-03T12:29:50.294616Z",
     "start_time": "2024-05-03T12:29:50.292003Z"
    },
    "scrolled": true
   },
   "outputs": [],
   "source": [
    "# test['Reviews_1'] = test['Reviews'].apply(lambda x: \n",
    "#                                  reviews_preprocessor(x,\n",
    "#                                  remove_punctuation=True,\n",
    "#                                  lowercase=True,\n",
    "#                                  remove_stopwords=True,\n",
    "#                                  lemmatization=False,\n",
    "#                                  stemming=False,\n",
    "#                                  tokenized_output=True,\n",
    "#                                  bert_tokenization=False,\n",
    "#                                  sentence_output=False))"
   ]
  },
  {
   "cell_type": "code",
   "execution_count": 22,
   "id": "82a142a5",
   "metadata": {
    "ExecuteTime": {
     "end_time": "2024-05-03T12:29:50.298949Z",
     "start_time": "2024-05-03T12:29:50.296794Z"
    }
   },
   "outputs": [],
   "source": [
    "# test['Reviews_1'] "
   ]
  },
  {
   "cell_type": "markdown",
   "id": "004ad9fa",
   "metadata": {},
   "source": [
    "**Exporting Preprocessed data**"
   ]
  },
  {
   "cell_type": "code",
   "execution_count": 23,
   "id": "9fc18ff3",
   "metadata": {
    "ExecuteTime": {
     "end_time": "2024-05-03T12:29:50.728127Z",
     "start_time": "2024-05-03T12:29:50.303822Z"
    }
   },
   "outputs": [],
   "source": [
    "dataset.to_csv('processed_data_v2.csv', index=False)"
   ]
  },
  {
   "cell_type": "markdown",
   "id": "8df6282d",
   "metadata": {},
   "source": [
    "**Depricated Code**"
   ]
  },
  {
   "cell_type": "code",
   "execution_count": 24,
   "id": "3a65f08d",
   "metadata": {
    "ExecuteTime": {
     "end_time": "2024-05-03T12:29:50.733051Z",
     "start_time": "2024-05-03T12:29:50.730382Z"
    }
   },
   "outputs": [],
   "source": [
    "# #Remove Punctuation\n",
    "# def remove_punc(review):\n",
    "#     ascii_to_translate = str.maketrans(\"\", \"\", string.punctuation)\n",
    "#     review = review.translate(ascii_to_translate)\n",
    "#     return review\n",
    "\n",
    "# print(reviews_list_deemojize[4708])\n",
    "# reviews_list_noPunc = [remove_punc(review) for review in reviews_list_deemojize]\n",
    "# print(reviews_list_noPunc[4708])"
   ]
  },
  {
   "cell_type": "code",
   "execution_count": 25,
   "id": "eccc5900",
   "metadata": {
    "ExecuteTime": {
     "end_time": "2024-05-03T12:29:50.737993Z",
     "start_time": "2024-05-03T12:29:50.735543Z"
    }
   },
   "outputs": [],
   "source": [
    "# #Make text all lowercase\n",
    "# reviews_list_lower = [review.lower() for review in reviews_list_noPunc]\n",
    "# print(reviews_list_lower[4708])"
   ]
  },
  {
   "cell_type": "code",
   "execution_count": 26,
   "id": "fb4c0a63",
   "metadata": {
    "ExecuteTime": {
     "end_time": "2024-05-03T12:29:50.742815Z",
     "start_time": "2024-05-03T12:29:50.740185Z"
    }
   },
   "outputs": [],
   "source": [
    "# #Tokenization\n",
    "# rev_tokenized = [word_tokenize(review) for review in reviews_list_lower]"
   ]
  },
  {
   "cell_type": "code",
   "execution_count": 27,
   "id": "7422b511",
   "metadata": {
    "ExecuteTime": {
     "end_time": "2024-05-03T12:29:50.747405Z",
     "start_time": "2024-05-03T12:29:50.744957Z"
    }
   },
   "outputs": [],
   "source": [
    "# print(rev_tokenized[4708])"
   ]
  },
  {
   "cell_type": "code",
   "execution_count": 28,
   "id": "e317da17",
   "metadata": {
    "ExecuteTime": {
     "end_time": "2024-05-03T12:29:50.752051Z",
     "start_time": "2024-05-03T12:29:50.749488Z"
    }
   },
   "outputs": [],
   "source": [
    "# #Stop word removal\n",
    "# def stop_word_remover(review):\n",
    "#     stop_words_list = list(stopwords.words(\"english\"))\n",
    "#     #print(stop_words_list)\n",
    "#     filtered_review = [text for text in review if text not in stop_words_list]\n",
    "#     return filtered_review\n",
    "\n",
    "# rev_null_stopword = [stop_word_remover(review) for review in rev_tokenized]"
   ]
  },
  {
   "cell_type": "code",
   "execution_count": 29,
   "id": "6ad46f1f",
   "metadata": {
    "ExecuteTime": {
     "end_time": "2024-05-03T12:29:50.756565Z",
     "start_time": "2024-05-03T12:29:50.754164Z"
    }
   },
   "outputs": [],
   "source": [
    "# print(rev_null_stopword[4708])"
   ]
  },
  {
   "cell_type": "code",
   "execution_count": 30,
   "id": "47bb515a",
   "metadata": {
    "ExecuteTime": {
     "end_time": "2024-05-03T12:29:50.761611Z",
     "start_time": "2024-05-03T12:29:50.758967Z"
    }
   },
   "outputs": [],
   "source": [
    "#Lemmatization of text. => Not much better than original text.\n",
    "#Use word embedding instead. \n",
    "\n",
    "#lemmatizer = WordNetLemmatizer()\n",
    "#reviews_preprocessed = []\n",
    "\n",
    "#for tokReview in rev_null_stopword:\n",
    "    #review = []\n",
    "    #for tok in tokReview:\n",
    "        #newtok = lemmatizer.lemmatize(tok)\n",
    "        #review.append(newtok)\n",
    "    #reviews_preprocessed.append(review)"
   ]
  },
  {
   "cell_type": "code",
   "execution_count": 31,
   "id": "4889c4bf",
   "metadata": {
    "ExecuteTime": {
     "end_time": "2024-05-03T12:29:50.766499Z",
     "start_time": "2024-05-03T12:29:50.764011Z"
    }
   },
   "outputs": [],
   "source": [
    "#print(reviews_preprocessed[4708])"
   ]
  },
  {
   "cell_type": "code",
   "execution_count": 32,
   "id": "0f282a3b",
   "metadata": {
    "ExecuteTime": {
     "end_time": "2024-05-03T12:29:50.771058Z",
     "start_time": "2024-05-03T12:29:50.768700Z"
    }
   },
   "outputs": [],
   "source": [
    "# #Since emoji is present only in review 4708, de-emojize review 4708.\n",
    "# reviews_list_deemojize = reviews_list.copy()\n",
    "# reviews_list_deemojize[4708] = emoji.demojize(reviews_list_deemojize[4708], language='en')\n",
    "# print(reviews_list[4708])\n",
    "# print(reviews_list_deemojize[4708])"
   ]
  }
 ],
 "metadata": {
  "kernelspec": {
   "display_name": "Python 3 (ipykernel)",
   "language": "python",
   "name": "python3"
  },
  "language_info": {
   "codemirror_mode": {
    "name": "ipython",
    "version": 3
   },
   "file_extension": ".py",
   "mimetype": "text/x-python",
   "name": "python",
   "nbconvert_exporter": "python",
   "pygments_lexer": "ipython3",
   "version": "3.11.9"
  },
  "toc": {
   "base_numbering": 1,
   "nav_menu": {},
   "number_sections": true,
   "sideBar": true,
   "skip_h1_title": true,
   "title_cell": "Table of Contents",
   "title_sidebar": "Contents",
   "toc_cell": true,
   "toc_position": {},
   "toc_section_display": true,
   "toc_window_display": false
  }
 },
 "nbformat": 4,
 "nbformat_minor": 5
}
